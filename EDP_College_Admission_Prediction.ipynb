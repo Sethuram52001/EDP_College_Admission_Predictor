{
  "cells": [
    {
      "cell_type": "markdown",
      "metadata": {
        "id": "view-in-github",
        "colab_type": "text"
      },
      "source": [
        "<a href=\"https://colab.research.google.com/github/Sethuram52001/EDP_College_Admission_Predictor/blob/main/EDP_College_Admission_Prediction.ipynb\" target=\"_parent\"><img src=\"https://colab.research.google.com/assets/colab-badge.svg\" alt=\"Open In Colab\"/></a>"
      ]
    },
    {
      "cell_type": "code",
      "execution_count": null,
      "metadata": {
        "id": "BAA6WXjKeIgI"
      },
      "outputs": [],
      "source": [
        "# college prediction"
      ]
    },
    {
      "cell_type": "code",
      "execution_count": null,
      "metadata": {
        "id": "7oe1HsoIeX7b"
      },
      "outputs": [],
      "source": [
        "import pandas as pd\n",
        "import numpy as np\n",
        "import matplotlib.pyplot as plt\n",
        "import pickle"
      ]
    },
    {
      "cell_type": "code",
      "execution_count": null,
      "metadata": {
        "colab": {
          "base_uri": "https://localhost:8080/",
          "height": 363
        },
        "id": "pcZN3SoIea6e",
        "outputId": "d4a16314-790a-4551-e82d-29d76db45a99"
      },
      "outputs": [
        {
          "output_type": "execute_result",
          "data": {
            "text/plain": [
              "   Year  10th Marks  12th Marks  12th Division  AIEEE Rank  \\\n",
              "0  2015          95          92              2         100   \n",
              "1  2015          75          88              3        1023   \n",
              "2  2015          83          84              6        2935   \n",
              "3  2015          75          91              8        5647   \n",
              "4  2015          94          94              9        3564   \n",
              "5  2015          95          94              1        2185   \n",
              "6  2015          89          89              1         785   \n",
              "7  2015          81          89              1        2231   \n",
              "8  2015          84          85              4        3561   \n",
              "9  2015          92          85              6        4235   \n",
              "\n",
              "                      College  \n",
              "0                   IIT delhi  \n",
              "1                 VIT vellore  \n",
              "2               Ahemedabad IT  \n",
              "3  University college of ENGG  \n",
              "4              SRMIST chennai  \n",
              "5                  Manipal IT  \n",
              "6                IIT hydrabad  \n",
              "7                 VIT vellore  \n",
              "8               Ahemedabad IT  \n",
              "9                 IIT jodhpur  "
            ],
            "text/html": [
              "\n",
              "  <div id=\"df-153858c2-87f6-44aa-bb99-96ab27d3449f\">\n",
              "    <div class=\"colab-df-container\">\n",
              "      <div>\n",
              "<style scoped>\n",
              "    .dataframe tbody tr th:only-of-type {\n",
              "        vertical-align: middle;\n",
              "    }\n",
              "\n",
              "    .dataframe tbody tr th {\n",
              "        vertical-align: top;\n",
              "    }\n",
              "\n",
              "    .dataframe thead th {\n",
              "        text-align: right;\n",
              "    }\n",
              "</style>\n",
              "<table border=\"1\" class=\"dataframe\">\n",
              "  <thead>\n",
              "    <tr style=\"text-align: right;\">\n",
              "      <th></th>\n",
              "      <th>Year</th>\n",
              "      <th>10th Marks</th>\n",
              "      <th>12th Marks</th>\n",
              "      <th>12th Division</th>\n",
              "      <th>AIEEE Rank</th>\n",
              "      <th>College</th>\n",
              "    </tr>\n",
              "  </thead>\n",
              "  <tbody>\n",
              "    <tr>\n",
              "      <th>0</th>\n",
              "      <td>2015</td>\n",
              "      <td>95</td>\n",
              "      <td>92</td>\n",
              "      <td>2</td>\n",
              "      <td>100</td>\n",
              "      <td>IIT delhi</td>\n",
              "    </tr>\n",
              "    <tr>\n",
              "      <th>1</th>\n",
              "      <td>2015</td>\n",
              "      <td>75</td>\n",
              "      <td>88</td>\n",
              "      <td>3</td>\n",
              "      <td>1023</td>\n",
              "      <td>VIT vellore</td>\n",
              "    </tr>\n",
              "    <tr>\n",
              "      <th>2</th>\n",
              "      <td>2015</td>\n",
              "      <td>83</td>\n",
              "      <td>84</td>\n",
              "      <td>6</td>\n",
              "      <td>2935</td>\n",
              "      <td>Ahemedabad IT</td>\n",
              "    </tr>\n",
              "    <tr>\n",
              "      <th>3</th>\n",
              "      <td>2015</td>\n",
              "      <td>75</td>\n",
              "      <td>91</td>\n",
              "      <td>8</td>\n",
              "      <td>5647</td>\n",
              "      <td>University college of ENGG</td>\n",
              "    </tr>\n",
              "    <tr>\n",
              "      <th>4</th>\n",
              "      <td>2015</td>\n",
              "      <td>94</td>\n",
              "      <td>94</td>\n",
              "      <td>9</td>\n",
              "      <td>3564</td>\n",
              "      <td>SRMIST chennai</td>\n",
              "    </tr>\n",
              "    <tr>\n",
              "      <th>5</th>\n",
              "      <td>2015</td>\n",
              "      <td>95</td>\n",
              "      <td>94</td>\n",
              "      <td>1</td>\n",
              "      <td>2185</td>\n",
              "      <td>Manipal IT</td>\n",
              "    </tr>\n",
              "    <tr>\n",
              "      <th>6</th>\n",
              "      <td>2015</td>\n",
              "      <td>89</td>\n",
              "      <td>89</td>\n",
              "      <td>1</td>\n",
              "      <td>785</td>\n",
              "      <td>IIT hydrabad</td>\n",
              "    </tr>\n",
              "    <tr>\n",
              "      <th>7</th>\n",
              "      <td>2015</td>\n",
              "      <td>81</td>\n",
              "      <td>89</td>\n",
              "      <td>1</td>\n",
              "      <td>2231</td>\n",
              "      <td>VIT vellore</td>\n",
              "    </tr>\n",
              "    <tr>\n",
              "      <th>8</th>\n",
              "      <td>2015</td>\n",
              "      <td>84</td>\n",
              "      <td>85</td>\n",
              "      <td>4</td>\n",
              "      <td>3561</td>\n",
              "      <td>Ahemedabad IT</td>\n",
              "    </tr>\n",
              "    <tr>\n",
              "      <th>9</th>\n",
              "      <td>2015</td>\n",
              "      <td>92</td>\n",
              "      <td>85</td>\n",
              "      <td>6</td>\n",
              "      <td>4235</td>\n",
              "      <td>IIT jodhpur</td>\n",
              "    </tr>\n",
              "  </tbody>\n",
              "</table>\n",
              "</div>\n",
              "      <button class=\"colab-df-convert\" onclick=\"convertToInteractive('df-153858c2-87f6-44aa-bb99-96ab27d3449f')\"\n",
              "              title=\"Convert this dataframe to an interactive table.\"\n",
              "              style=\"display:none;\">\n",
              "        \n",
              "  <svg xmlns=\"http://www.w3.org/2000/svg\" height=\"24px\"viewBox=\"0 0 24 24\"\n",
              "       width=\"24px\">\n",
              "    <path d=\"M0 0h24v24H0V0z\" fill=\"none\"/>\n",
              "    <path d=\"M18.56 5.44l.94 2.06.94-2.06 2.06-.94-2.06-.94-.94-2.06-.94 2.06-2.06.94zm-11 1L8.5 8.5l.94-2.06 2.06-.94-2.06-.94L8.5 2.5l-.94 2.06-2.06.94zm10 10l.94 2.06.94-2.06 2.06-.94-2.06-.94-.94-2.06-.94 2.06-2.06.94z\"/><path d=\"M17.41 7.96l-1.37-1.37c-.4-.4-.92-.59-1.43-.59-.52 0-1.04.2-1.43.59L10.3 9.45l-7.72 7.72c-.78.78-.78 2.05 0 2.83L4 21.41c.39.39.9.59 1.41.59.51 0 1.02-.2 1.41-.59l7.78-7.78 2.81-2.81c.8-.78.8-2.07 0-2.86zM5.41 20L4 18.59l7.72-7.72 1.47 1.35L5.41 20z\"/>\n",
              "  </svg>\n",
              "      </button>\n",
              "      \n",
              "  <style>\n",
              "    .colab-df-container {\n",
              "      display:flex;\n",
              "      flex-wrap:wrap;\n",
              "      gap: 12px;\n",
              "    }\n",
              "\n",
              "    .colab-df-convert {\n",
              "      background-color: #E8F0FE;\n",
              "      border: none;\n",
              "      border-radius: 50%;\n",
              "      cursor: pointer;\n",
              "      display: none;\n",
              "      fill: #1967D2;\n",
              "      height: 32px;\n",
              "      padding: 0 0 0 0;\n",
              "      width: 32px;\n",
              "    }\n",
              "\n",
              "    .colab-df-convert:hover {\n",
              "      background-color: #E2EBFA;\n",
              "      box-shadow: 0px 1px 2px rgba(60, 64, 67, 0.3), 0px 1px 3px 1px rgba(60, 64, 67, 0.15);\n",
              "      fill: #174EA6;\n",
              "    }\n",
              "\n",
              "    [theme=dark] .colab-df-convert {\n",
              "      background-color: #3B4455;\n",
              "      fill: #D2E3FC;\n",
              "    }\n",
              "\n",
              "    [theme=dark] .colab-df-convert:hover {\n",
              "      background-color: #434B5C;\n",
              "      box-shadow: 0px 1px 3px 1px rgba(0, 0, 0, 0.15);\n",
              "      filter: drop-shadow(0px 1px 2px rgba(0, 0, 0, 0.3));\n",
              "      fill: #FFFFFF;\n",
              "    }\n",
              "  </style>\n",
              "\n",
              "      <script>\n",
              "        const buttonEl =\n",
              "          document.querySelector('#df-153858c2-87f6-44aa-bb99-96ab27d3449f button.colab-df-convert');\n",
              "        buttonEl.style.display =\n",
              "          google.colab.kernel.accessAllowed ? 'block' : 'none';\n",
              "\n",
              "        async function convertToInteractive(key) {\n",
              "          const element = document.querySelector('#df-153858c2-87f6-44aa-bb99-96ab27d3449f');\n",
              "          const dataTable =\n",
              "            await google.colab.kernel.invokeFunction('convertToInteractive',\n",
              "                                                     [key], {});\n",
              "          if (!dataTable) return;\n",
              "\n",
              "          const docLinkHtml = 'Like what you see? Visit the ' +\n",
              "            '<a target=\"_blank\" href=https://colab.research.google.com/notebooks/data_table.ipynb>data table notebook</a>'\n",
              "            + ' to learn more about interactive tables.';\n",
              "          element.innerHTML = '';\n",
              "          dataTable['output_type'] = 'display_data';\n",
              "          await google.colab.output.renderOutput(dataTable, element);\n",
              "          const docLink = document.createElement('div');\n",
              "          docLink.innerHTML = docLinkHtml;\n",
              "          element.appendChild(docLink);\n",
              "        }\n",
              "      </script>\n",
              "    </div>\n",
              "  </div>\n",
              "  "
            ]
          },
          "metadata": {},
          "execution_count": 3
        }
      ],
      "source": [
        "# reading data file\n",
        "df = pd.read_csv('/content/dataset - college admission prediction.csv')\n",
        "df.head(10)"
      ]
    },
    {
      "cell_type": "code",
      "execution_count": null,
      "metadata": {
        "colab": {
          "base_uri": "https://localhost:8080/"
        },
        "id": "vDnCTtpJedPF",
        "outputId": "e49f5ffa-41db-40ca-b564-bd95d16b0301"
      },
      "outputs": [
        {
          "output_type": "stream",
          "name": "stdout",
          "text": [
            "['Ahemedabad IT' 'BIT Mesra' 'BITS pilani' 'BMS college of ENGG'\n",
            " 'DTU delhi' 'HBUT kanpur' 'IIEST shibpur' 'IIIT hydrabad' 'IIT Bombay'\n",
            " 'IIT bhilai' 'IIT delhi' 'IIT goa' 'IIT guwahati' 'IIT hydrabad'\n",
            " 'IIT indore' 'IIT jammu' 'IIT jodhpur' 'IIT kanpur' 'IIT kharagpur'\n",
            " 'IIT mandi' 'IIT palakkad' 'IIT ropar' 'IIT tirupati'\n",
            " 'Jadavpur Univversity' 'KLEF hydrabad' 'MNIT jaipur' 'MNNIT allahabad'\n",
            " 'MSIT' 'Manipal IT' 'NIT trichy' 'NIT warangal' 'NMIMS'\n",
            " 'Netaji Subhas IT' 'S O A  university' 'SRMIST chennai'\n",
            " 'SSN college of ENGG' 'University college of ENGG' 'VIT vellore']\n"
          ]
        }
      ],
      "source": [
        "college_list = np.unique(df['College'])\n",
        "college = np.unique(df['College'])\n",
        "# college_code_list = []\n",
        "# for i in range(len(college_list)):\n",
        "#   college_code_list.append(i + 1)\n",
        "college_map = {i+1:x for i, x in enumerate(college)}\n",
        "\n",
        "with open('college.pkl', 'wb') as file:\n",
        "  pickle.dump(college_map, file)\n",
        "\n",
        "print(college_list)"
      ]
    },
    {
      "cell_type": "code",
      "execution_count": null,
      "metadata": {
        "colab": {
          "base_uri": "https://localhost:8080/",
          "height": 363
        },
        "id": "oy1RZ1cSejze",
        "outputId": "0c546ed4-59a8-42a1-c106-e1540f03f588"
      },
      "outputs": [
        {
          "output_type": "execute_result",
          "data": {
            "text/plain": [
              "   Year  10th Marks  12th Marks  12th Division  AIEEE Rank  College\n",
              "0  2015          95          92              2         100       11\n",
              "1  2015          75          88              3        1023       38\n",
              "2  2015          83          84              6        2935        1\n",
              "3  2015          75          91              8        5647       37\n",
              "4  2015          94          94              9        3564       35\n",
              "5  2015          95          94              1        2185       29\n",
              "6  2015          89          89              1         785       14\n",
              "7  2015          81          89              1        2231       38\n",
              "8  2015          84          85              4        3561        1\n",
              "9  2015          92          85              6        4235       17"
            ],
            "text/html": [
              "\n",
              "  <div id=\"df-fe0710f9-7093-4797-8896-0addf9577646\">\n",
              "    <div class=\"colab-df-container\">\n",
              "      <div>\n",
              "<style scoped>\n",
              "    .dataframe tbody tr th:only-of-type {\n",
              "        vertical-align: middle;\n",
              "    }\n",
              "\n",
              "    .dataframe tbody tr th {\n",
              "        vertical-align: top;\n",
              "    }\n",
              "\n",
              "    .dataframe thead th {\n",
              "        text-align: right;\n",
              "    }\n",
              "</style>\n",
              "<table border=\"1\" class=\"dataframe\">\n",
              "  <thead>\n",
              "    <tr style=\"text-align: right;\">\n",
              "      <th></th>\n",
              "      <th>Year</th>\n",
              "      <th>10th Marks</th>\n",
              "      <th>12th Marks</th>\n",
              "      <th>12th Division</th>\n",
              "      <th>AIEEE Rank</th>\n",
              "      <th>College</th>\n",
              "    </tr>\n",
              "  </thead>\n",
              "  <tbody>\n",
              "    <tr>\n",
              "      <th>0</th>\n",
              "      <td>2015</td>\n",
              "      <td>95</td>\n",
              "      <td>92</td>\n",
              "      <td>2</td>\n",
              "      <td>100</td>\n",
              "      <td>11</td>\n",
              "    </tr>\n",
              "    <tr>\n",
              "      <th>1</th>\n",
              "      <td>2015</td>\n",
              "      <td>75</td>\n",
              "      <td>88</td>\n",
              "      <td>3</td>\n",
              "      <td>1023</td>\n",
              "      <td>38</td>\n",
              "    </tr>\n",
              "    <tr>\n",
              "      <th>2</th>\n",
              "      <td>2015</td>\n",
              "      <td>83</td>\n",
              "      <td>84</td>\n",
              "      <td>6</td>\n",
              "      <td>2935</td>\n",
              "      <td>1</td>\n",
              "    </tr>\n",
              "    <tr>\n",
              "      <th>3</th>\n",
              "      <td>2015</td>\n",
              "      <td>75</td>\n",
              "      <td>91</td>\n",
              "      <td>8</td>\n",
              "      <td>5647</td>\n",
              "      <td>37</td>\n",
              "    </tr>\n",
              "    <tr>\n",
              "      <th>4</th>\n",
              "      <td>2015</td>\n",
              "      <td>94</td>\n",
              "      <td>94</td>\n",
              "      <td>9</td>\n",
              "      <td>3564</td>\n",
              "      <td>35</td>\n",
              "    </tr>\n",
              "    <tr>\n",
              "      <th>5</th>\n",
              "      <td>2015</td>\n",
              "      <td>95</td>\n",
              "      <td>94</td>\n",
              "      <td>1</td>\n",
              "      <td>2185</td>\n",
              "      <td>29</td>\n",
              "    </tr>\n",
              "    <tr>\n",
              "      <th>6</th>\n",
              "      <td>2015</td>\n",
              "      <td>89</td>\n",
              "      <td>89</td>\n",
              "      <td>1</td>\n",
              "      <td>785</td>\n",
              "      <td>14</td>\n",
              "    </tr>\n",
              "    <tr>\n",
              "      <th>7</th>\n",
              "      <td>2015</td>\n",
              "      <td>81</td>\n",
              "      <td>89</td>\n",
              "      <td>1</td>\n",
              "      <td>2231</td>\n",
              "      <td>38</td>\n",
              "    </tr>\n",
              "    <tr>\n",
              "      <th>8</th>\n",
              "      <td>2015</td>\n",
              "      <td>84</td>\n",
              "      <td>85</td>\n",
              "      <td>4</td>\n",
              "      <td>3561</td>\n",
              "      <td>1</td>\n",
              "    </tr>\n",
              "    <tr>\n",
              "      <th>9</th>\n",
              "      <td>2015</td>\n",
              "      <td>92</td>\n",
              "      <td>85</td>\n",
              "      <td>6</td>\n",
              "      <td>4235</td>\n",
              "      <td>17</td>\n",
              "    </tr>\n",
              "  </tbody>\n",
              "</table>\n",
              "</div>\n",
              "      <button class=\"colab-df-convert\" onclick=\"convertToInteractive('df-fe0710f9-7093-4797-8896-0addf9577646')\"\n",
              "              title=\"Convert this dataframe to an interactive table.\"\n",
              "              style=\"display:none;\">\n",
              "        \n",
              "  <svg xmlns=\"http://www.w3.org/2000/svg\" height=\"24px\"viewBox=\"0 0 24 24\"\n",
              "       width=\"24px\">\n",
              "    <path d=\"M0 0h24v24H0V0z\" fill=\"none\"/>\n",
              "    <path d=\"M18.56 5.44l.94 2.06.94-2.06 2.06-.94-2.06-.94-.94-2.06-.94 2.06-2.06.94zm-11 1L8.5 8.5l.94-2.06 2.06-.94-2.06-.94L8.5 2.5l-.94 2.06-2.06.94zm10 10l.94 2.06.94-2.06 2.06-.94-2.06-.94-.94-2.06-.94 2.06-2.06.94z\"/><path d=\"M17.41 7.96l-1.37-1.37c-.4-.4-.92-.59-1.43-.59-.52 0-1.04.2-1.43.59L10.3 9.45l-7.72 7.72c-.78.78-.78 2.05 0 2.83L4 21.41c.39.39.9.59 1.41.59.51 0 1.02-.2 1.41-.59l7.78-7.78 2.81-2.81c.8-.78.8-2.07 0-2.86zM5.41 20L4 18.59l7.72-7.72 1.47 1.35L5.41 20z\"/>\n",
              "  </svg>\n",
              "      </button>\n",
              "      \n",
              "  <style>\n",
              "    .colab-df-container {\n",
              "      display:flex;\n",
              "      flex-wrap:wrap;\n",
              "      gap: 12px;\n",
              "    }\n",
              "\n",
              "    .colab-df-convert {\n",
              "      background-color: #E8F0FE;\n",
              "      border: none;\n",
              "      border-radius: 50%;\n",
              "      cursor: pointer;\n",
              "      display: none;\n",
              "      fill: #1967D2;\n",
              "      height: 32px;\n",
              "      padding: 0 0 0 0;\n",
              "      width: 32px;\n",
              "    }\n",
              "\n",
              "    .colab-df-convert:hover {\n",
              "      background-color: #E2EBFA;\n",
              "      box-shadow: 0px 1px 2px rgba(60, 64, 67, 0.3), 0px 1px 3px 1px rgba(60, 64, 67, 0.15);\n",
              "      fill: #174EA6;\n",
              "    }\n",
              "\n",
              "    [theme=dark] .colab-df-convert {\n",
              "      background-color: #3B4455;\n",
              "      fill: #D2E3FC;\n",
              "    }\n",
              "\n",
              "    [theme=dark] .colab-df-convert:hover {\n",
              "      background-color: #434B5C;\n",
              "      box-shadow: 0px 1px 3px 1px rgba(0, 0, 0, 0.15);\n",
              "      filter: drop-shadow(0px 1px 2px rgba(0, 0, 0, 0.3));\n",
              "      fill: #FFFFFF;\n",
              "    }\n",
              "  </style>\n",
              "\n",
              "      <script>\n",
              "        const buttonEl =\n",
              "          document.querySelector('#df-fe0710f9-7093-4797-8896-0addf9577646 button.colab-df-convert');\n",
              "        buttonEl.style.display =\n",
              "          google.colab.kernel.accessAllowed ? 'block' : 'none';\n",
              "\n",
              "        async function convertToInteractive(key) {\n",
              "          const element = document.querySelector('#df-fe0710f9-7093-4797-8896-0addf9577646');\n",
              "          const dataTable =\n",
              "            await google.colab.kernel.invokeFunction('convertToInteractive',\n",
              "                                                     [key], {});\n",
              "          if (!dataTable) return;\n",
              "\n",
              "          const docLinkHtml = 'Like what you see? Visit the ' +\n",
              "            '<a target=\"_blank\" href=https://colab.research.google.com/notebooks/data_table.ipynb>data table notebook</a>'\n",
              "            + ' to learn more about interactive tables.';\n",
              "          element.innerHTML = '';\n",
              "          dataTable['output_type'] = 'display_data';\n",
              "          await google.colab.output.renderOutput(dataTable, element);\n",
              "          const docLink = document.createElement('div');\n",
              "          docLink.innerHTML = docLinkHtml;\n",
              "          element.appendChild(docLink);\n",
              "        }\n",
              "      </script>\n",
              "    </div>\n",
              "  </div>\n",
              "  "
            ]
          },
          "metadata": {},
          "execution_count": 5
        }
      ],
      "source": [
        "# replacing college names with unique ids\n",
        "college = np.unique(df['College'])\n",
        "college_code_list = []\n",
        "for i in range(len(college_list)):\n",
        "  college_code_list.append(i + 1)\n",
        "\n",
        "df['College'] = df['College'].replace(college_list, college_code_list)\n",
        "bak_college = np.array(df['College'])\n",
        "df.head(10)"
      ]
    },
    {
      "cell_type": "code",
      "execution_count": null,
      "metadata": {
        "colab": {
          "base_uri": "https://localhost:8080/"
        },
        "id": "tNBk13qLyYw8",
        "outputId": "297fc4f8-b48c-4263-877d-b67781ade6ac"
      },
      "outputs": [
        {
          "output_type": "execute_result",
          "data": {
            "text/plain": [
              "Year             2019\n",
              "10th Marks         78\n",
              "12th Marks         85\n",
              "12th Division      11\n",
              "AIEEE Rank       1730\n",
              "College            15\n",
              "Name: 804, dtype: int64"
            ]
          },
          "metadata": {},
          "execution_count": 6
        }
      ],
      "source": [
        "df.loc[df[\"12th Division\"].idxmax()]"
      ]
    },
    {
      "cell_type": "code",
      "execution_count": null,
      "metadata": {
        "colab": {
          "base_uri": "https://localhost:8080/"
        },
        "id": "mAY4XS1Keo-h",
        "outputId": "5abd5aca-1e40-4a99-eb24-2567ee8cf606"
      },
      "outputs": [
        {
          "output_type": "stream",
          "name": "stdout",
          "text": [
            "Shape of X_train::  (803, 5)\n",
            "Shape of y_train::  (803,)\n",
            "Shape of X_test::  (201, 5)\n",
            "Shape of y_test::  (201,)\n"
          ]
        }
      ],
      "source": [
        "# pre-processing data\n",
        "from sklearn.model_selection import train_test_split\n",
        "\n",
        "x = df.iloc[:, 0:5].values\n",
        "y = df.iloc[:, 5].values\n",
        "\n",
        "x_train, x_test, y_train, y_test = train_test_split(x, y, test_size = 0.2, random_state = 0)\n",
        "print('Shape of X_train:: ', x_train.shape)\n",
        "print('Shape of y_train:: ', y_train.shape)\n",
        "print('Shape of X_test:: ', x_test.shape)\n",
        "print('Shape of y_test:: ', y_test.shape)"
      ]
    },
    {
      "cell_type": "code",
      "execution_count": null,
      "metadata": {
        "colab": {
          "base_uri": "https://localhost:8080/"
        },
        "id": "PX9lnggpeq_D",
        "outputId": "6129c047-f112-4e5d-c39a-973209857687"
      },
      "outputs": [
        {
          "output_type": "execute_result",
          "data": {
            "text/plain": [
              "RandomForestClassifier(max_depth=15, random_state=0)"
            ]
          },
          "metadata": {},
          "execution_count": 8
        }
      ],
      "source": [
        "# building model\n",
        "from sklearn.ensemble import RandomForestClassifier\n",
        "clf = RandomForestClassifier(max_depth=15, random_state=0)\n",
        "clf.fit(x_train, y_train)"
      ]
    },
    {
      "cell_type": "code",
      "execution_count": null,
      "metadata": {
        "colab": {
          "base_uri": "https://localhost:8080/"
        },
        "id": "X9ZqxDB0es8K",
        "outputId": "9430138d-00ca-4b7c-afe2-2ba297ecf46c"
      },
      "outputs": [
        {
          "output_type": "execute_result",
          "data": {
            "text/plain": [
              "0.9154228855721394"
            ]
          },
          "metadata": {},
          "execution_count": 9
        }
      ],
      "source": [
        "np.mean(clf.predict(x_test) == y_test)"
      ]
    },
    {
      "cell_type": "code",
      "execution_count": null,
      "metadata": {
        "colab": {
          "base_uri": "https://localhost:8080/"
        },
        "id": "QFfaHKQwevcp",
        "outputId": "44f5347a-03d0-4018-c20e-605ffbb91a0b"
      },
      "outputs": [
        {
          "output_type": "stream",
          "name": "stdout",
          "text": [
            "['Year', '10th Marks', '12th Marks', '12th Division', 'AIEEE Rank']\n",
            "Year: 50\n",
            "10th Marks: 50\n",
            "12th Marks: 10\n",
            "12th Division: 10\n",
            "AIEEE Rank: 1\n",
            "IIT hydrabad\n"
          ]
        }
      ],
      "source": [
        "col = df.columns.tolist()[0:5]\n",
        "print(col)\n",
        "usrip=[]\n",
        "for i in col:\n",
        "  usrip.append((eval(input(i + \": \"))))\n",
        "\n",
        "#userpred = clf.predict([usrip])\n",
        "#print(userpred)\n",
        "#print(\"You may have change to get entrance in: \",college[college_code_list.index(int(userpred[0]))])\n",
        "userpred = college[college_code_list.index(int(clf.predict([usrip])[0]))]\n",
        "print(userpred)"
      ]
    },
    {
      "cell_type": "code",
      "execution_count": null,
      "metadata": {
        "id": "HQnhqFB6e-3m"
      },
      "outputs": [],
      "source": [
        "import pickle\n",
        "pickle.dump(clf, open('new_model.pkl', 'wb'))\n",
        "pickle.dump(usrip, open('usrip.pkl', 'wb'))"
      ]
    },
    {
      "cell_type": "code",
      "execution_count": null,
      "metadata": {
        "id": "kf3C3x2tf0di",
        "colab": {
          "base_uri": "https://localhost:8080/"
        },
        "outputId": "55597d9a-fbf3-4e98-8eca-fde0093bbb7b"
      },
      "outputs": [
        {
          "output_type": "stream",
          "name": "stdout",
          "text": [
            "\u001b[K     |████████████████████████████████| 9.1 MB 4.9 MB/s \n",
            "\u001b[K     |████████████████████████████████| 232 kB 58.1 MB/s \n",
            "\u001b[K     |████████████████████████████████| 181 kB 19.7 MB/s \n",
            "\u001b[K     |████████████████████████████████| 78 kB 6.7 MB/s \n",
            "\u001b[K     |████████████████████████████████| 111 kB 57.2 MB/s \n",
            "\u001b[K     |████████████████████████████████| 164 kB 56.8 MB/s \n",
            "\u001b[K     |████████████████████████████████| 4.3 MB 46.7 MB/s \n",
            "\u001b[K     |████████████████████████████████| 63 kB 1.4 MB/s \n",
            "\u001b[K     |████████████████████████████████| 133 kB 57.9 MB/s \n",
            "\u001b[K     |████████████████████████████████| 132 kB 34.7 MB/s \n",
            "\u001b[K     |████████████████████████████████| 793 kB 43.3 MB/s \n",
            "\u001b[K     |████████████████████████████████| 428 kB 58.2 MB/s \n",
            "\u001b[K     |████████████████████████████████| 381 kB 56.5 MB/s \n",
            "\u001b[K     |████████████████████████████████| 51 kB 7.4 MB/s \n",
            "\u001b[?25h  Building wheel for blinker (setup.py) ... \u001b[?25l\u001b[?25hdone\n",
            "  Building wheel for validators (setup.py) ... \u001b[?25l\u001b[?25hdone\n",
            "\u001b[31mERROR: pip's dependency resolver does not currently take into account all the packages that are installed. This behaviour is the source of the following dependency conflicts.\n",
            "nbclient 0.6.4 requires traitlets>=5.2.2, but you have traitlets 5.1.1 which is incompatible.\n",
            "jupyter-console 5.2.0 requires prompt-toolkit<2.0.0,>=1.0.0, but you have prompt-toolkit 3.0.29 which is incompatible.\n",
            "google-colab 1.0.0 requires ipykernel~=4.10, but you have ipykernel 6.15.0 which is incompatible.\n",
            "google-colab 1.0.0 requires ipython~=5.5.0, but you have ipython 7.34.0 which is incompatible.\n",
            "google-colab 1.0.0 requires tornado~=5.1.0; python_version >= \"3.0\", but you have tornado 6.1 which is incompatible.\u001b[0m\n"
          ]
        }
      ],
      "source": [
        "# installing streamlit\n",
        "!pip install streamlit -q"
      ]
    },
    {
      "cell_type": "code",
      "execution_count": null,
      "metadata": {
        "id": "rT-S4EicfKzj"
      },
      "outputs": [],
      "source": [
        "# loading lib for web app\n",
        "#import streamlit as st\n",
        "import numpy as np\n",
        "import string\n",
        "import pickle\n",
        "\n",
        "# loading model\n",
        "model = pickle.load(open('new_model.pkl', 'rb'))"
      ]
    },
    {
      "cell_type": "code",
      "execution_count": null,
      "metadata": {
        "colab": {
          "base_uri": "https://localhost:8080/"
        },
        "id": "R9Uv7QpOffnU",
        "outputId": "8a3dc645-1afa-4795-eecf-0fc4ac9313ff"
      },
      "outputs": [
        {
          "output_type": "stream",
          "name": "stdout",
          "text": [
            "Writing app.py\n"
          ]
        }
      ],
      "source": [
        "%%writefile app.py\n",
        "# loading model\n",
        "import pickle\n",
        "model = pickle.load(open('new_model.pkl', 'rb'))\n",
        "college = pickle.load(open('college.pkl', 'rb'))\n",
        "import streamlit as st\n",
        "st.markdown(\"<h1 style='text-align: center; color: White;background-color:#e84343'>Graduate Admission Predictor</h1>\", unsafe_allow_html=True)\n",
        "st.markdown(\"<h3 style='text-align: center; color: Black;'>Drop in The required Inputs and we will do  the rest.</h3>\", unsafe_allow_html=True)\n",
        "st.sidebar.header(\"What is this Project about?\")\n",
        "st.sidebar.text(\"It a Web app that would help the user in determining whether they will get admission in a Graduate Program or not.\")\n",
        "st.sidebar.header(\"What tools where used to make this?\")\n",
        "st.sidebar.text(\"The Model was made using a dataset from Kaggle along with using Kaggle notebooks to train the model. We made use of Sci-Kit learn in order to make our Random Forest Classifier Model.\")\n",
        "year = st.number_input(\"Input Your Grad Year\",min_value=2010, max_value=2022) \n",
        "tenth_mark = st.number_input(\"Input your 10th Score\",min_value=0, max_value=100)\n",
        "twelfth_mark = st.number_input(\"Input your 12th Score\",min_value=0, max_value=100) \n",
        "twelfth_div = st.slider(\"Input your 12th div\",1,12) \n",
        "aieee_rank = st.number_input(\"Input your AIEEE rank\",min_value=1) \n",
        "\n",
        "inputs = [[year, tenth_mark, twelfth_mark, twelfth_div, aieee_rank]] #our inputs\n",
        "\n",
        "if st.button('Predict'): #making and printing our prediction\n",
        "  #result = model.predict(inputs)\n",
        "  pred = model.predict(inputs)[0]\n",
        "  # result = college_code_list[college_code_list.index(pred)]\n",
        "  result = college[pred]\n",
        "  st.success(f'You have good chance to get into {result}')\n"
      ]
    },
    {
      "cell_type": "code",
      "execution_count": null,
      "metadata": {
        "colab": {
          "base_uri": "https://localhost:8080/"
        },
        "id": "tKHlHLHdt0Cr",
        "outputId": "19aa75bd-3e3c-433c-d571-fb05438b862a"
      },
      "outputs": [
        {
          "output_type": "stream",
          "name": "stdout",
          "text": [
            "2022-06-24 14:58:14.701 INFO    numexpr.utils: NumExpr defaulting to 2 threads.\n",
            "\u001b[0m\n",
            "\u001b[34m\u001b[1m  You can now view your Streamlit app in your browser.\u001b[0m\n",
            "\u001b[0m\n",
            "\u001b[34m  Network URL: \u001b[0m\u001b[1mhttp://172.28.0.2:8501\u001b[0m\n",
            "\u001b[34m  External URL: \u001b[0m\u001b[1mhttp://35.234.15.125:8501\u001b[0m\n",
            "\u001b[0m\n",
            "\u001b[K\u001b[?25hnpx: installed 22 in 4.212s\n",
            "\u001b[34m  Stopping...\u001b[0m\n",
            "^C\n"
          ]
        }
      ],
      "source": [
        "!streamlit run app.py & npx localtunnel --port 8501"
      ]
    }
  ],
  "metadata": {
    "colab": {
      "collapsed_sections": [],
      "name": "EDP - College Admission Prediction.ipynb",
      "provenance": [],
      "authorship_tag": "ABX9TyPda4ar3QdD/hXA9Z7AkFb8",
      "include_colab_link": true
    },
    "kernelspec": {
      "display_name": "Python 3",
      "name": "python3"
    },
    "language_info": {
      "name": "python"
    }
  },
  "nbformat": 4,
  "nbformat_minor": 0
}